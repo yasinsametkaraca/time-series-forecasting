{
 "cells": [
  {
   "cell_type": "markdown",
   "id": "66552cf4",
   "metadata": {},
   "source": [
    "# Derin Öğrenme ile Zaman Serileri Tahmin Modelleri\n",
    "\n",
    "Zaman serileri zamana bağlı olark değişen gözlemlerden oluşan sıralı verilerdir. Zaman serisi tahmin modellerinde amaç geçmişteki gözlem değerlerinden gelecekteki durumların dağılımını araştırmaktır.\n",
    "\n",
    "Zaman serisi modelleri:\n",
    "1. Geleneksel yöntemler\n",
    "   \n",
    "   1.1. Doğrusal modeller (ARMA, ARIMA vs.) durağanlık varsayımı ile çalışır. Durağanlık bir serinin ortalmasının ve varyansının zamandan bağımsız sabit olması demektir. Dolayısıyla ARIMA modellerini çalışabilmesi için öncelikle zaman serisinin durağan hale getirilmesi gereklidir. Bunun için sezonsal ARIMA, ya da fark alma gibi metotlar geliştirilmiştir.\n",
    "    \n",
    "    1.2. Doğrusal olmayan modeller (ARCH, GARCH, TAR, NAR, NARX gibi)\n",
    "\n",
    "Geleneksel yöntemlerde tekrarlı bir yapı söz konusu ve durağanlık şartının olması makine öğrenmesi yöntemlerinin gereksinimini doğurur.\n",
    "\n",
    "2. Makine öğrenmesi yöntemleri  \n",
    "    2.1. SVM, ANN, DT vb.\n",
    "\n",
    "3. Derin öğrenme yöntemleri  \n",
    "    3.1. RNN, LSTM, GRU\n",
    "\n",
    "Birinci ve ikinci kategorideki yaklaşımlarla ilgili birçok alanda örnek çaışma bulunabilir. Derin öğrenme çalşmalarının ise diğerlerinie göre yeni olduğunu söyleyebiliriz. "
   ]
  },
  {
   "cell_type": "markdown",
   "id": "48514897",
   "metadata": {},
   "source": [
    "# Zaman serisinde çerçeveleme\n",
    "\n",
    "Zaman serilerinin derin öğrenme ile modellenebilmesi için bir takım dönüşümlerin yapılması gereklidir. \n",
    "\n",
    "Karar verilmesi gerekenler:\n",
    "- Tahmin adımı sayısı (Kaç sonraki veri tahmin edilecek)\n",
    "- Çıktının boyut sayısı\n",
    "- Multivariate vs Univariate\n",
    "- Zaman gecikmesi (kaç önceki veri ile tahmin)\n",
    "\n",
    "Aşağıda k zaman sonraki y değişkenini tahmin ediyoruz. Sadece bir değişken kullanarak bunu yapıyoruz. Şimdiki zaman t ise t+k zaman sonraki y değeri geçmişteki x değerlerinden şimdiki x değerine kadar olan durumlara bağlı olacak.\n",
    "\n",
    "$$y_{t+k} = f(x_{t-n}, x_{t-n+1}, ..., x_t)$$\n",
    "\n",
    "Multivariate olması durumunda özellik sayısı kadar x değerleri olacaktır. Bu durumu daha iyi anlamak için görsel incelenebilir.\n",
    "\n",
    "![pencere_kaydirma.drawio.png](pencere_kaydirma.drawio.png)"
   ]
  },
  {
   "cell_type": "markdown",
   "id": "bd0dcace",
   "metadata": {},
   "source": [
    "# Derin Öğrenme Algoritmaları\n",
    "Zaman serileri sıralı veriler olduğundan derin öğrenme algoritmalarından RNN, LSTM ve GRU nun sıralı verilerde(konuşma verisi, görüntü verisi gibi) daha iyi sonuç verdiği bilinmektedir. \n",
    "\n",
    "\n",
    "\n",
    "## RNN\n",
    "RNN'ler geçmiş veriler ile gelecekteki verilerin arasındaki ilişkiyi öğrenme boyunca hafızada tutar. \n",
    "![image2.png](image2.png)\n",
    "\n",
    "$$h_t = tanh(U(x_t, h_{t-1}))$$\n",
    "$$ o_t = \\sigma(W, S_t)$$\n",
    "\n",
    "\n",
    "## LSTM\n",
    "\n",
    "Bir RNN varyantıdır. Uzun süreli zaman ilişkilerinde daha başarılı sonuç verir. Gizli durumu(hidden state)(h), hücre durumu(cell state)(C) vardır. Grafikten görüldüğü gibi Ct bir önceki hücre durumuna (C_t-1) e, bir önceki gizli duruma(h_t-1) ve şimdiki girdiye (xt) ye bağlıdır. Hücre içinde bilgiler forget gate, input gate ve output gate kapıları ile tutulur. Bunlara ilişkin formüller aşağıda verilmiştir.  \n",
    "\n",
    "![image4.png](image4.png)\n",
    "![imageformul.png](imageformul.png)\n",
    "\n",
    "## GRU\n",
    "Farklı olarak update ve reset gate eklenmiştir.\n",
    "\n",
    "![image5.png](image5.png)\n",
    "![imageformul2.png](imageformul2.png)"
   ]
  },
  {
   "cell_type": "markdown",
   "id": "f4b1d6a3",
   "metadata": {},
   "source": [
    "## Veri seti\n",
    "\n",
    "Bu çalışmada Pekindeki hava kirliliği veri seti kullanılacaktır. İlgili veri seti linkten indirilebilir: https://archive.ics.uci.edu/ml/datasets/Beijing+Multi-Site+Air-Quality+Data"
   ]
  },
  {
   "cell_type": "markdown",
   "id": "75a1f202",
   "metadata": {},
   "source": [
    "# Uygulama ve Deneysel sonuçlar"
   ]
  },
  {
   "cell_type": "code",
   "execution_count": 1,
   "id": "c30ee04e",
   "metadata": {
    "ExecuteTime": {
     "end_time": "2023-09-08T07:57:05.539822Z",
     "start_time": "2023-09-08T07:57:02.907369400Z"
    }
   },
   "outputs": [],
   "source": [
    "# PAKETLER\n",
    "import os\n",
    "import numpy as np\n",
    "import random\n",
    "import matplotlib.pyplot as plt\n",
    "import seaborn as sns\n",
    "import pandas as pd\n",
    "from sklearn.model_selection import train_test_split\n",
    "from sklearn.metrics import mean_absolute_error, mean_squared_error, mean_absolute_percentage_error, r2_score, max_error, explained_variance_score\n",
    "from sklearn.preprocessing import MinMaxScaler\n",
    "import tensorflow as tf\n",
    "from datetime import datetime\n",
    "\n",
    "from tensorflow.keras.models import Sequential\n",
    "from tensorflow.keras.layers import Dense\n",
    "from tensorflow.keras.layers import LSTM, GRU, SimpleRNN, TimeDistributed, Bidirectional, ConvLSTM2D, Dropout\n",
    "from tensorflow.keras.models import model_from_json"
   ]
  },
  {
   "cell_type": "code",
   "execution_count": 2,
   "id": "779e5302",
   "metadata": {
    "ExecuteTime": {
     "end_time": "2023-09-08T07:57:05.623914400Z",
     "start_time": "2023-09-08T07:57:05.539822Z"
    }
   },
   "outputs": [],
   "source": [
    "# VERİ SETİ\n",
    "df = pd.read_csv('PRSA_Data_Aotizhongxin_20130301-20170228.csv', index_col=0)"
   ]
  },
  {
   "cell_type": "code",
   "execution_count": 3,
   "id": "cb986a82",
   "metadata": {
    "ExecuteTime": {
     "end_time": "2023-09-08T07:57:05.649438300Z",
     "start_time": "2023-09-08T07:57:05.623914400Z"
    }
   },
   "outputs": [
    {
     "data": {
      "text/plain": "(35064, 17)"
     },
     "execution_count": 3,
     "metadata": {},
     "output_type": "execute_result"
    }
   ],
   "source": [
    "df.shape"
   ]
  },
  {
   "cell_type": "code",
   "execution_count": 4,
   "id": "f03cffda",
   "metadata": {
    "ExecuteTime": {
     "end_time": "2023-09-08T07:57:05.696310500Z",
     "start_time": "2023-09-08T07:57:05.640312100Z"
    }
   },
   "outputs": [
    {
     "data": {
      "text/plain": "    year  month  day  hour  PM2.5  PM10   SO2   NO2     CO    O3  TEMP  \\\nNo                                                                       \n1   2013      3    1     0    4.0   4.0   4.0   7.0  300.0  77.0  -0.7   \n2   2013      3    1     1    8.0   8.0   4.0   7.0  300.0  77.0  -1.1   \n3   2013      3    1     2    7.0   7.0   5.0  10.0  300.0  73.0  -1.1   \n4   2013      3    1     3    6.0   6.0  11.0  11.0  300.0  72.0  -1.4   \n5   2013      3    1     4    3.0   3.0  12.0  12.0  300.0  72.0  -2.0   \n\n      PRES  DEWP  RAIN   wd  WSPM       station  \nNo                                               \n1   1023.0 -18.8   0.0  NNW   4.4  Aotizhongxin  \n2   1023.2 -18.2   0.0    N   4.7  Aotizhongxin  \n3   1023.5 -18.2   0.0  NNW   5.6  Aotizhongxin  \n4   1024.5 -19.4   0.0   NW   3.1  Aotizhongxin  \n5   1025.2 -19.5   0.0    N   2.0  Aotizhongxin  ",
      "text/html": "<div>\n<style scoped>\n    .dataframe tbody tr th:only-of-type {\n        vertical-align: middle;\n    }\n\n    .dataframe tbody tr th {\n        vertical-align: top;\n    }\n\n    .dataframe thead th {\n        text-align: right;\n    }\n</style>\n<table border=\"1\" class=\"dataframe\">\n  <thead>\n    <tr style=\"text-align: right;\">\n      <th></th>\n      <th>year</th>\n      <th>month</th>\n      <th>day</th>\n      <th>hour</th>\n      <th>PM2.5</th>\n      <th>PM10</th>\n      <th>SO2</th>\n      <th>NO2</th>\n      <th>CO</th>\n      <th>O3</th>\n      <th>TEMP</th>\n      <th>PRES</th>\n      <th>DEWP</th>\n      <th>RAIN</th>\n      <th>wd</th>\n      <th>WSPM</th>\n      <th>station</th>\n    </tr>\n    <tr>\n      <th>No</th>\n      <th></th>\n      <th></th>\n      <th></th>\n      <th></th>\n      <th></th>\n      <th></th>\n      <th></th>\n      <th></th>\n      <th></th>\n      <th></th>\n      <th></th>\n      <th></th>\n      <th></th>\n      <th></th>\n      <th></th>\n      <th></th>\n      <th></th>\n    </tr>\n  </thead>\n  <tbody>\n    <tr>\n      <th>1</th>\n      <td>2013</td>\n      <td>3</td>\n      <td>1</td>\n      <td>0</td>\n      <td>4.0</td>\n      <td>4.0</td>\n      <td>4.0</td>\n      <td>7.0</td>\n      <td>300.0</td>\n      <td>77.0</td>\n      <td>-0.7</td>\n      <td>1023.0</td>\n      <td>-18.8</td>\n      <td>0.0</td>\n      <td>NNW</td>\n      <td>4.4</td>\n      <td>Aotizhongxin</td>\n    </tr>\n    <tr>\n      <th>2</th>\n      <td>2013</td>\n      <td>3</td>\n      <td>1</td>\n      <td>1</td>\n      <td>8.0</td>\n      <td>8.0</td>\n      <td>4.0</td>\n      <td>7.0</td>\n      <td>300.0</td>\n      <td>77.0</td>\n      <td>-1.1</td>\n      <td>1023.2</td>\n      <td>-18.2</td>\n      <td>0.0</td>\n      <td>N</td>\n      <td>4.7</td>\n      <td>Aotizhongxin</td>\n    </tr>\n    <tr>\n      <th>3</th>\n      <td>2013</td>\n      <td>3</td>\n      <td>1</td>\n      <td>2</td>\n      <td>7.0</td>\n      <td>7.0</td>\n      <td>5.0</td>\n      <td>10.0</td>\n      <td>300.0</td>\n      <td>73.0</td>\n      <td>-1.1</td>\n      <td>1023.5</td>\n      <td>-18.2</td>\n      <td>0.0</td>\n      <td>NNW</td>\n      <td>5.6</td>\n      <td>Aotizhongxin</td>\n    </tr>\n    <tr>\n      <th>4</th>\n      <td>2013</td>\n      <td>3</td>\n      <td>1</td>\n      <td>3</td>\n      <td>6.0</td>\n      <td>6.0</td>\n      <td>11.0</td>\n      <td>11.0</td>\n      <td>300.0</td>\n      <td>72.0</td>\n      <td>-1.4</td>\n      <td>1024.5</td>\n      <td>-19.4</td>\n      <td>0.0</td>\n      <td>NW</td>\n      <td>3.1</td>\n      <td>Aotizhongxin</td>\n    </tr>\n    <tr>\n      <th>5</th>\n      <td>2013</td>\n      <td>3</td>\n      <td>1</td>\n      <td>4</td>\n      <td>3.0</td>\n      <td>3.0</td>\n      <td>12.0</td>\n      <td>12.0</td>\n      <td>300.0</td>\n      <td>72.0</td>\n      <td>-2.0</td>\n      <td>1025.2</td>\n      <td>-19.5</td>\n      <td>0.0</td>\n      <td>N</td>\n      <td>2.0</td>\n      <td>Aotizhongxin</td>\n    </tr>\n  </tbody>\n</table>\n</div>"
     },
     "execution_count": 4,
     "metadata": {},
     "output_type": "execute_result"
    }
   ],
   "source": [
    "df.head()"
   ]
  },
  {
   "cell_type": "code",
   "execution_count": 5,
   "id": "a20eb680",
   "metadata": {
    "ExecuteTime": {
     "end_time": "2023-09-08T07:57:05.758805300Z",
     "start_time": "2023-09-08T07:57:05.680688500Z"
    }
   },
   "outputs": [
    {
     "data": {
      "text/plain": "Index(['year', 'month', 'day', 'hour', 'PM2.5', 'PM10', 'SO2', 'NO2', 'CO',\n       'O3', 'TEMP', 'PRES', 'DEWP', 'RAIN', 'wd', 'WSPM', 'station'],\n      dtype='object')"
     },
     "execution_count": 5,
     "metadata": {},
     "output_type": "execute_result"
    }
   ],
   "source": [
    "df.columns"
   ]
  },
  {
   "cell_type": "code",
   "execution_count": 6,
   "id": "2bc36938",
   "metadata": {
    "ExecuteTime": {
     "end_time": "2023-09-08T07:57:05.842143300Z",
     "start_time": "2023-09-08T07:57:05.696310500Z"
    }
   },
   "outputs": [
    {
     "name": "stdout",
     "output_type": "stream",
     "text": [
      "<class 'pandas.core.frame.DataFrame'>\n",
      "Index: 35064 entries, 1 to 35064\n",
      "Data columns (total 17 columns):\n",
      " #   Column   Non-Null Count  Dtype  \n",
      "---  ------   --------------  -----  \n",
      " 0   year     35064 non-null  int64  \n",
      " 1   month    35064 non-null  int64  \n",
      " 2   day      35064 non-null  int64  \n",
      " 3   hour     35064 non-null  int64  \n",
      " 4   PM2.5    34139 non-null  float64\n",
      " 5   PM10     34346 non-null  float64\n",
      " 6   SO2      34129 non-null  float64\n",
      " 7   NO2      34041 non-null  float64\n",
      " 8   CO       33288 non-null  float64\n",
      " 9   O3       33345 non-null  float64\n",
      " 10  TEMP     35044 non-null  float64\n",
      " 11  PRES     35044 non-null  float64\n",
      " 12  DEWP     35044 non-null  float64\n",
      " 13  RAIN     35044 non-null  float64\n",
      " 14  wd       34983 non-null  object \n",
      " 15  WSPM     35050 non-null  float64\n",
      " 16  station  35064 non-null  object \n",
      "dtypes: float64(11), int64(4), object(2)\n",
      "memory usage: 4.8+ MB\n"
     ]
    }
   ],
   "source": [
    "df.info()"
   ]
  },
  {
   "cell_type": "code",
   "execution_count": 7,
   "id": "a789887f",
   "metadata": {
    "ExecuteTime": {
     "end_time": "2023-09-08T07:57:06.030657900Z",
     "start_time": "2023-09-08T07:57:05.727556700Z"
    }
   },
   "outputs": [
    {
     "data": {
      "text/plain": "               year         month           day          hour         PM2.5  \\\ncount  35064.000000  35064.000000  35064.000000  35064.000000  34139.000000   \nmean    2014.662560      6.522930     15.729637     11.500000     82.773611   \nstd        1.177213      3.448752      8.800218      6.922285     82.135694   \nmin     2013.000000      1.000000      1.000000      0.000000      3.000000   \n25%     2014.000000      4.000000      8.000000      5.750000     22.000000   \n50%     2015.000000      7.000000     16.000000     11.500000     58.000000   \n75%     2016.000000     10.000000     23.000000     17.250000    114.000000   \nmax     2017.000000     12.000000     31.000000     23.000000    898.000000   \n\n               PM10           SO2           NO2            CO            O3  \\\ncount  34346.000000  34129.000000  34041.000000  33288.000000  33345.000000   \nmean     110.060391     17.375901     59.305833   1262.945145     56.353358   \nstd       95.223005     22.823017     37.116200   1221.436236     57.916327   \nmin        2.000000      0.285600      2.000000    100.000000      0.214200   \n25%       38.000000      3.000000     30.000000    500.000000      8.000000   \n50%       87.000000      9.000000     53.000000    900.000000     42.000000   \n75%      155.000000     21.000000     82.000000   1500.000000     82.000000   \nmax      984.000000    341.000000    290.000000  10000.000000    423.000000   \n\n               TEMP          PRES          DEWP          RAIN          WSPM  \ncount  35044.000000  35044.000000  35044.000000  35044.000000  35050.000000  \nmean      13.584607   1011.846920      3.123062      0.067421      1.708496  \nstd       11.399097     10.404047     13.688896      0.910056      1.204071  \nmin      -16.800000    985.900000    -35.300000      0.000000      0.000000  \n25%        3.100000   1003.300000     -8.100000      0.000000      0.900000  \n50%       14.500000   1011.400000      3.800000      0.000000      1.400000  \n75%       23.300000   1020.100000     15.600000      0.000000      2.200000  \nmax       40.500000   1042.000000     28.500000     72.500000     11.200000  ",
      "text/html": "<div>\n<style scoped>\n    .dataframe tbody tr th:only-of-type {\n        vertical-align: middle;\n    }\n\n    .dataframe tbody tr th {\n        vertical-align: top;\n    }\n\n    .dataframe thead th {\n        text-align: right;\n    }\n</style>\n<table border=\"1\" class=\"dataframe\">\n  <thead>\n    <tr style=\"text-align: right;\">\n      <th></th>\n      <th>year</th>\n      <th>month</th>\n      <th>day</th>\n      <th>hour</th>\n      <th>PM2.5</th>\n      <th>PM10</th>\n      <th>SO2</th>\n      <th>NO2</th>\n      <th>CO</th>\n      <th>O3</th>\n      <th>TEMP</th>\n      <th>PRES</th>\n      <th>DEWP</th>\n      <th>RAIN</th>\n      <th>WSPM</th>\n    </tr>\n  </thead>\n  <tbody>\n    <tr>\n      <th>count</th>\n      <td>35064.000000</td>\n      <td>35064.000000</td>\n      <td>35064.000000</td>\n      <td>35064.000000</td>\n      <td>34139.000000</td>\n      <td>34346.000000</td>\n      <td>34129.000000</td>\n      <td>34041.000000</td>\n      <td>33288.000000</td>\n      <td>33345.000000</td>\n      <td>35044.000000</td>\n      <td>35044.000000</td>\n      <td>35044.000000</td>\n      <td>35044.000000</td>\n      <td>35050.000000</td>\n    </tr>\n    <tr>\n      <th>mean</th>\n      <td>2014.662560</td>\n      <td>6.522930</td>\n      <td>15.729637</td>\n      <td>11.500000</td>\n      <td>82.773611</td>\n      <td>110.060391</td>\n      <td>17.375901</td>\n      <td>59.305833</td>\n      <td>1262.945145</td>\n      <td>56.353358</td>\n      <td>13.584607</td>\n      <td>1011.846920</td>\n      <td>3.123062</td>\n      <td>0.067421</td>\n      <td>1.708496</td>\n    </tr>\n    <tr>\n      <th>std</th>\n      <td>1.177213</td>\n      <td>3.448752</td>\n      <td>8.800218</td>\n      <td>6.922285</td>\n      <td>82.135694</td>\n      <td>95.223005</td>\n      <td>22.823017</td>\n      <td>37.116200</td>\n      <td>1221.436236</td>\n      <td>57.916327</td>\n      <td>11.399097</td>\n      <td>10.404047</td>\n      <td>13.688896</td>\n      <td>0.910056</td>\n      <td>1.204071</td>\n    </tr>\n    <tr>\n      <th>min</th>\n      <td>2013.000000</td>\n      <td>1.000000</td>\n      <td>1.000000</td>\n      <td>0.000000</td>\n      <td>3.000000</td>\n      <td>2.000000</td>\n      <td>0.285600</td>\n      <td>2.000000</td>\n      <td>100.000000</td>\n      <td>0.214200</td>\n      <td>-16.800000</td>\n      <td>985.900000</td>\n      <td>-35.300000</td>\n      <td>0.000000</td>\n      <td>0.000000</td>\n    </tr>\n    <tr>\n      <th>25%</th>\n      <td>2014.000000</td>\n      <td>4.000000</td>\n      <td>8.000000</td>\n      <td>5.750000</td>\n      <td>22.000000</td>\n      <td>38.000000</td>\n      <td>3.000000</td>\n      <td>30.000000</td>\n      <td>500.000000</td>\n      <td>8.000000</td>\n      <td>3.100000</td>\n      <td>1003.300000</td>\n      <td>-8.100000</td>\n      <td>0.000000</td>\n      <td>0.900000</td>\n    </tr>\n    <tr>\n      <th>50%</th>\n      <td>2015.000000</td>\n      <td>7.000000</td>\n      <td>16.000000</td>\n      <td>11.500000</td>\n      <td>58.000000</td>\n      <td>87.000000</td>\n      <td>9.000000</td>\n      <td>53.000000</td>\n      <td>900.000000</td>\n      <td>42.000000</td>\n      <td>14.500000</td>\n      <td>1011.400000</td>\n      <td>3.800000</td>\n      <td>0.000000</td>\n      <td>1.400000</td>\n    </tr>\n    <tr>\n      <th>75%</th>\n      <td>2016.000000</td>\n      <td>10.000000</td>\n      <td>23.000000</td>\n      <td>17.250000</td>\n      <td>114.000000</td>\n      <td>155.000000</td>\n      <td>21.000000</td>\n      <td>82.000000</td>\n      <td>1500.000000</td>\n      <td>82.000000</td>\n      <td>23.300000</td>\n      <td>1020.100000</td>\n      <td>15.600000</td>\n      <td>0.000000</td>\n      <td>2.200000</td>\n    </tr>\n    <tr>\n      <th>max</th>\n      <td>2017.000000</td>\n      <td>12.000000</td>\n      <td>31.000000</td>\n      <td>23.000000</td>\n      <td>898.000000</td>\n      <td>984.000000</td>\n      <td>341.000000</td>\n      <td>290.000000</td>\n      <td>10000.000000</td>\n      <td>423.000000</td>\n      <td>40.500000</td>\n      <td>1042.000000</td>\n      <td>28.500000</td>\n      <td>72.500000</td>\n      <td>11.200000</td>\n    </tr>\n  </tbody>\n</table>\n</div>"
     },
     "execution_count": 7,
     "metadata": {},
     "output_type": "execute_result"
    }
   ],
   "source": [
    "df.describe()"
   ]
  },
  {
   "cell_type": "code",
   "execution_count": 8,
   "id": "2092e135",
   "metadata": {
    "ExecuteTime": {
     "end_time": "2023-09-08T07:57:06.077526600Z",
     "start_time": "2023-09-08T07:57:05.810154900Z"
    }
   },
   "outputs": [
    {
     "data": {
      "text/plain": "year          0\nmonth         0\nday           0\nhour          0\nPM2.5       925\nPM10        718\nSO2         935\nNO2        1023\nCO         1776\nO3         1719\nTEMP         20\nPRES         20\nDEWP         20\nRAIN         20\nwd           81\nWSPM         14\nstation       0\ndtype: int64"
     },
     "execution_count": 8,
     "metadata": {},
     "output_type": "execute_result"
    }
   ],
   "source": [
    "# Eksik veriler\n",
    "df.isna().sum()"
   ]
  },
  {
   "cell_type": "code",
   "execution_count": 9,
   "id": "3385838d",
   "metadata": {
    "ExecuteTime": {
     "end_time": "2023-09-08T07:57:06.077526600Z",
     "start_time": "2023-09-08T07:57:05.826148600Z"
    }
   },
   "outputs": [],
   "source": [
    "df['PM2.5'].fillna(df['PM2.5'].median(), inplace=True)\n",
    "df['PM10'].fillna(df['PM10'].median(), inplace=True)\n",
    "df['SO2'].fillna(df['SO2'].median(), inplace=True)\n",
    "df['NO2'].fillna(df['NO2'].mean(), inplace=True)\n",
    "df['CO'].fillna(df['CO'].median(), inplace=True)\n",
    "df['O3'].fillna(df['O3'].median(), inplace=True)\n",
    "df['TEMP'].fillna(df['TEMP'].median(), inplace=True)\n",
    "df['PRES'].fillna(df['PRES'].median(), inplace=True)\n",
    "df['DEWP'].fillna(df['DEWP'].median(), inplace=True)\n",
    "df['RAIN'].fillna(df['RAIN'].median(), inplace=True)\n",
    "df['WSPM'].fillna(df['WSPM'].median(), inplace=True)\n",
    "df.dropna(subset = ['wd'], inplace=True)"
   ]
  },
  {
   "cell_type": "code",
   "execution_count": 10,
   "id": "1d76cfce",
   "metadata": {
    "ExecuteTime": {
     "end_time": "2023-09-08T07:57:06.093148500Z",
     "start_time": "2023-09-08T07:57:05.850379200Z"
    }
   },
   "outputs": [
    {
     "data": {
      "text/plain": "year       0\nmonth      0\nday        0\nhour       0\nPM2.5      0\nPM10       0\nSO2        0\nNO2        0\nCO         0\nO3         0\nTEMP       0\nPRES       0\nDEWP       0\nRAIN       0\nwd         0\nWSPM       0\nstation    0\ndtype: int64"
     },
     "execution_count": 10,
     "metadata": {},
     "output_type": "execute_result"
    }
   ],
   "source": [
    "df.isna().sum()"
   ]
  },
  {
   "cell_type": "code",
   "execution_count": 11,
   "id": "8fbbf028",
   "metadata": {
    "ExecuteTime": {
     "end_time": "2023-09-08T07:57:06.093148500Z",
     "start_time": "2023-09-08T07:57:05.881632400Z"
    }
   },
   "outputs": [
    {
     "data": {
      "text/plain": "No\n1        2013\n2        2013\n3        2013\n4        2013\n5        2013\n         ... \n35060    2017\n35061    2017\n35062    2017\n35063    2017\n35064    2017\nName: year, Length: 34983, dtype: object"
     },
     "execution_count": 11,
     "metadata": {},
     "output_type": "execute_result"
    }
   ],
   "source": [
    "df['year'].astype(str)"
   ]
  },
  {
   "cell_type": "code",
   "execution_count": 12,
   "id": "f7785d7c",
   "metadata": {
    "ExecuteTime": {
     "end_time": "2023-09-08T07:57:06.093148500Z",
     "start_time": "2023-09-08T07:57:05.921288900Z"
    }
   },
   "outputs": [
    {
     "data": {
      "text/plain": "No\n1        03\n2        03\n3        03\n4        03\n5        03\n         ..\n35060    02\n35061    02\n35062    02\n35063    02\n35064    02\nName: month, Length: 34983, dtype: object"
     },
     "execution_count": 12,
     "metadata": {},
     "output_type": "execute_result"
    }
   ],
   "source": [
    "df['month'].astype(str).str.zfill(2)"
   ]
  },
  {
   "cell_type": "code",
   "execution_count": 13,
   "id": "c3f3dac7",
   "metadata": {
    "ExecuteTime": {
     "end_time": "2023-09-08T07:57:06.337450200Z",
     "start_time": "2023-09-08T07:57:05.952543300Z"
    }
   },
   "outputs": [],
   "source": [
    "# year, month, day gibi sütunların datetime formatına çevrilmesi\n",
    "df['dateInt']=df['year'].astype(str) + df['month'].astype(str).str.zfill(2)+ df['day'].astype(str).str.zfill(2)+df['hour'].astype(str).str.zfill(2)\n",
    "df['Date'] = pd.to_datetime(df['dateInt'], format='%Y%m%d%H')\n",
    "df['dateInt']=df['year'].astype(str) + df['month'].astype(str).str.zfill(2)+ df['day'].astype(str).str.zfill(2)\n",
    "df['date'] = pd.to_datetime(df['dateInt'], format='%Y%m%d')"
   ]
  },
  {
   "cell_type": "code",
   "execution_count": 14,
   "id": "4475440f",
   "metadata": {
    "ExecuteTime": {
     "end_time": "2023-09-08T07:57:06.337450200Z",
     "start_time": "2023-09-08T07:57:06.189818200Z"
    }
   },
   "outputs": [
    {
     "data": {
      "text/plain": "    year  month  day  hour  PM2.5  PM10   SO2   NO2     CO    O3  TEMP  \\\nNo                                                                       \n1   2013      3    1     0    4.0   4.0   4.0   7.0  300.0  77.0  -0.7   \n2   2013      3    1     1    8.0   8.0   4.0   7.0  300.0  77.0  -1.1   \n3   2013      3    1     2    7.0   7.0   5.0  10.0  300.0  73.0  -1.1   \n4   2013      3    1     3    6.0   6.0  11.0  11.0  300.0  72.0  -1.4   \n5   2013      3    1     4    3.0   3.0  12.0  12.0  300.0  72.0  -2.0   \n\n      PRES  DEWP  RAIN   wd  WSPM       station   dateInt                Date  \\\nNo                                                                              \n1   1023.0 -18.8   0.0  NNW   4.4  Aotizhongxin  20130301 2013-03-01 00:00:00   \n2   1023.2 -18.2   0.0    N   4.7  Aotizhongxin  20130301 2013-03-01 01:00:00   \n3   1023.5 -18.2   0.0  NNW   5.6  Aotizhongxin  20130301 2013-03-01 02:00:00   \n4   1024.5 -19.4   0.0   NW   3.1  Aotizhongxin  20130301 2013-03-01 03:00:00   \n5   1025.2 -19.5   0.0    N   2.0  Aotizhongxin  20130301 2013-03-01 04:00:00   \n\n         date  \nNo             \n1  2013-03-01  \n2  2013-03-01  \n3  2013-03-01  \n4  2013-03-01  \n5  2013-03-01  ",
      "text/html": "<div>\n<style scoped>\n    .dataframe tbody tr th:only-of-type {\n        vertical-align: middle;\n    }\n\n    .dataframe tbody tr th {\n        vertical-align: top;\n    }\n\n    .dataframe thead th {\n        text-align: right;\n    }\n</style>\n<table border=\"1\" class=\"dataframe\">\n  <thead>\n    <tr style=\"text-align: right;\">\n      <th></th>\n      <th>year</th>\n      <th>month</th>\n      <th>day</th>\n      <th>hour</th>\n      <th>PM2.5</th>\n      <th>PM10</th>\n      <th>SO2</th>\n      <th>NO2</th>\n      <th>CO</th>\n      <th>O3</th>\n      <th>TEMP</th>\n      <th>PRES</th>\n      <th>DEWP</th>\n      <th>RAIN</th>\n      <th>wd</th>\n      <th>WSPM</th>\n      <th>station</th>\n      <th>dateInt</th>\n      <th>Date</th>\n      <th>date</th>\n    </tr>\n    <tr>\n      <th>No</th>\n      <th></th>\n      <th></th>\n      <th></th>\n      <th></th>\n      <th></th>\n      <th></th>\n      <th></th>\n      <th></th>\n      <th></th>\n      <th></th>\n      <th></th>\n      <th></th>\n      <th></th>\n      <th></th>\n      <th></th>\n      <th></th>\n      <th></th>\n      <th></th>\n      <th></th>\n      <th></th>\n    </tr>\n  </thead>\n  <tbody>\n    <tr>\n      <th>1</th>\n      <td>2013</td>\n      <td>3</td>\n      <td>1</td>\n      <td>0</td>\n      <td>4.0</td>\n      <td>4.0</td>\n      <td>4.0</td>\n      <td>7.0</td>\n      <td>300.0</td>\n      <td>77.0</td>\n      <td>-0.7</td>\n      <td>1023.0</td>\n      <td>-18.8</td>\n      <td>0.0</td>\n      <td>NNW</td>\n      <td>4.4</td>\n      <td>Aotizhongxin</td>\n      <td>20130301</td>\n      <td>2013-03-01 00:00:00</td>\n      <td>2013-03-01</td>\n    </tr>\n    <tr>\n      <th>2</th>\n      <td>2013</td>\n      <td>3</td>\n      <td>1</td>\n      <td>1</td>\n      <td>8.0</td>\n      <td>8.0</td>\n      <td>4.0</td>\n      <td>7.0</td>\n      <td>300.0</td>\n      <td>77.0</td>\n      <td>-1.1</td>\n      <td>1023.2</td>\n      <td>-18.2</td>\n      <td>0.0</td>\n      <td>N</td>\n      <td>4.7</td>\n      <td>Aotizhongxin</td>\n      <td>20130301</td>\n      <td>2013-03-01 01:00:00</td>\n      <td>2013-03-01</td>\n    </tr>\n    <tr>\n      <th>3</th>\n      <td>2013</td>\n      <td>3</td>\n      <td>1</td>\n      <td>2</td>\n      <td>7.0</td>\n      <td>7.0</td>\n      <td>5.0</td>\n      <td>10.0</td>\n      <td>300.0</td>\n      <td>73.0</td>\n      <td>-1.1</td>\n      <td>1023.5</td>\n      <td>-18.2</td>\n      <td>0.0</td>\n      <td>NNW</td>\n      <td>5.6</td>\n      <td>Aotizhongxin</td>\n      <td>20130301</td>\n      <td>2013-03-01 02:00:00</td>\n      <td>2013-03-01</td>\n    </tr>\n    <tr>\n      <th>4</th>\n      <td>2013</td>\n      <td>3</td>\n      <td>1</td>\n      <td>3</td>\n      <td>6.0</td>\n      <td>6.0</td>\n      <td>11.0</td>\n      <td>11.0</td>\n      <td>300.0</td>\n      <td>72.0</td>\n      <td>-1.4</td>\n      <td>1024.5</td>\n      <td>-19.4</td>\n      <td>0.0</td>\n      <td>NW</td>\n      <td>3.1</td>\n      <td>Aotizhongxin</td>\n      <td>20130301</td>\n      <td>2013-03-01 03:00:00</td>\n      <td>2013-03-01</td>\n    </tr>\n    <tr>\n      <th>5</th>\n      <td>2013</td>\n      <td>3</td>\n      <td>1</td>\n      <td>4</td>\n      <td>3.0</td>\n      <td>3.0</td>\n      <td>12.0</td>\n      <td>12.0</td>\n      <td>300.0</td>\n      <td>72.0</td>\n      <td>-2.0</td>\n      <td>1025.2</td>\n      <td>-19.5</td>\n      <td>0.0</td>\n      <td>N</td>\n      <td>2.0</td>\n      <td>Aotizhongxin</td>\n      <td>20130301</td>\n      <td>2013-03-01 04:00:00</td>\n      <td>2013-03-01</td>\n    </tr>\n  </tbody>\n</table>\n</div>"
     },
     "execution_count": 14,
     "metadata": {},
     "output_type": "execute_result"
    }
   ],
   "source": [
    "df.head()"
   ]
  },
  {
   "cell_type": "code",
   "execution_count": 15,
   "id": "439428be",
   "metadata": {
    "ExecuteTime": {
     "end_time": "2023-09-08T07:57:06.337450200Z",
     "start_time": "2023-09-08T07:57:06.228078500Z"
    }
   },
   "outputs": [
    {
     "data": {
      "text/plain": "                     year  month  day  hour  PM2.5  PM10   SO2   NO2     CO  \\\nDate                                                                          \n2013-03-01 00:00:00  2013      3    1     0    4.0   4.0   4.0   7.0  300.0   \n2013-03-01 01:00:00  2013      3    1     1    8.0   8.0   4.0   7.0  300.0   \n2013-03-01 02:00:00  2013      3    1     2    7.0   7.0   5.0  10.0  300.0   \n2013-03-01 03:00:00  2013      3    1     3    6.0   6.0  11.0  11.0  300.0   \n2013-03-01 04:00:00  2013      3    1     4    3.0   3.0  12.0  12.0  300.0   \n\n                       O3  TEMP    PRES  DEWP  RAIN   wd  WSPM       station  \\\nDate                                                                           \n2013-03-01 00:00:00  77.0  -0.7  1023.0 -18.8   0.0  NNW   4.4  Aotizhongxin   \n2013-03-01 01:00:00  77.0  -1.1  1023.2 -18.2   0.0    N   4.7  Aotizhongxin   \n2013-03-01 02:00:00  73.0  -1.1  1023.5 -18.2   0.0  NNW   5.6  Aotizhongxin   \n2013-03-01 03:00:00  72.0  -1.4  1024.5 -19.4   0.0   NW   3.1  Aotizhongxin   \n2013-03-01 04:00:00  72.0  -2.0  1025.2 -19.5   0.0    N   2.0  Aotizhongxin   \n\n                      dateInt       date  \nDate                                      \n2013-03-01 00:00:00  20130301 2013-03-01  \n2013-03-01 01:00:00  20130301 2013-03-01  \n2013-03-01 02:00:00  20130301 2013-03-01  \n2013-03-01 03:00:00  20130301 2013-03-01  \n2013-03-01 04:00:00  20130301 2013-03-01  ",
      "text/html": "<div>\n<style scoped>\n    .dataframe tbody tr th:only-of-type {\n        vertical-align: middle;\n    }\n\n    .dataframe tbody tr th {\n        vertical-align: top;\n    }\n\n    .dataframe thead th {\n        text-align: right;\n    }\n</style>\n<table border=\"1\" class=\"dataframe\">\n  <thead>\n    <tr style=\"text-align: right;\">\n      <th></th>\n      <th>year</th>\n      <th>month</th>\n      <th>day</th>\n      <th>hour</th>\n      <th>PM2.5</th>\n      <th>PM10</th>\n      <th>SO2</th>\n      <th>NO2</th>\n      <th>CO</th>\n      <th>O3</th>\n      <th>TEMP</th>\n      <th>PRES</th>\n      <th>DEWP</th>\n      <th>RAIN</th>\n      <th>wd</th>\n      <th>WSPM</th>\n      <th>station</th>\n      <th>dateInt</th>\n      <th>date</th>\n    </tr>\n    <tr>\n      <th>Date</th>\n      <th></th>\n      <th></th>\n      <th></th>\n      <th></th>\n      <th></th>\n      <th></th>\n      <th></th>\n      <th></th>\n      <th></th>\n      <th></th>\n      <th></th>\n      <th></th>\n      <th></th>\n      <th></th>\n      <th></th>\n      <th></th>\n      <th></th>\n      <th></th>\n      <th></th>\n    </tr>\n  </thead>\n  <tbody>\n    <tr>\n      <th>2013-03-01 00:00:00</th>\n      <td>2013</td>\n      <td>3</td>\n      <td>1</td>\n      <td>0</td>\n      <td>4.0</td>\n      <td>4.0</td>\n      <td>4.0</td>\n      <td>7.0</td>\n      <td>300.0</td>\n      <td>77.0</td>\n      <td>-0.7</td>\n      <td>1023.0</td>\n      <td>-18.8</td>\n      <td>0.0</td>\n      <td>NNW</td>\n      <td>4.4</td>\n      <td>Aotizhongxin</td>\n      <td>20130301</td>\n      <td>2013-03-01</td>\n    </tr>\n    <tr>\n      <th>2013-03-01 01:00:00</th>\n      <td>2013</td>\n      <td>3</td>\n      <td>1</td>\n      <td>1</td>\n      <td>8.0</td>\n      <td>8.0</td>\n      <td>4.0</td>\n      <td>7.0</td>\n      <td>300.0</td>\n      <td>77.0</td>\n      <td>-1.1</td>\n      <td>1023.2</td>\n      <td>-18.2</td>\n      <td>0.0</td>\n      <td>N</td>\n      <td>4.7</td>\n      <td>Aotizhongxin</td>\n      <td>20130301</td>\n      <td>2013-03-01</td>\n    </tr>\n    <tr>\n      <th>2013-03-01 02:00:00</th>\n      <td>2013</td>\n      <td>3</td>\n      <td>1</td>\n      <td>2</td>\n      <td>7.0</td>\n      <td>7.0</td>\n      <td>5.0</td>\n      <td>10.0</td>\n      <td>300.0</td>\n      <td>73.0</td>\n      <td>-1.1</td>\n      <td>1023.5</td>\n      <td>-18.2</td>\n      <td>0.0</td>\n      <td>NNW</td>\n      <td>5.6</td>\n      <td>Aotizhongxin</td>\n      <td>20130301</td>\n      <td>2013-03-01</td>\n    </tr>\n    <tr>\n      <th>2013-03-01 03:00:00</th>\n      <td>2013</td>\n      <td>3</td>\n      <td>1</td>\n      <td>3</td>\n      <td>6.0</td>\n      <td>6.0</td>\n      <td>11.0</td>\n      <td>11.0</td>\n      <td>300.0</td>\n      <td>72.0</td>\n      <td>-1.4</td>\n      <td>1024.5</td>\n      <td>-19.4</td>\n      <td>0.0</td>\n      <td>NW</td>\n      <td>3.1</td>\n      <td>Aotizhongxin</td>\n      <td>20130301</td>\n      <td>2013-03-01</td>\n    </tr>\n    <tr>\n      <th>2013-03-01 04:00:00</th>\n      <td>2013</td>\n      <td>3</td>\n      <td>1</td>\n      <td>4</td>\n      <td>3.0</td>\n      <td>3.0</td>\n      <td>12.0</td>\n      <td>12.0</td>\n      <td>300.0</td>\n      <td>72.0</td>\n      <td>-2.0</td>\n      <td>1025.2</td>\n      <td>-19.5</td>\n      <td>0.0</td>\n      <td>N</td>\n      <td>2.0</td>\n      <td>Aotizhongxin</td>\n      <td>20130301</td>\n      <td>2013-03-01</td>\n    </tr>\n  </tbody>\n</table>\n</div>"
     },
     "execution_count": 15,
     "metadata": {},
     "output_type": "execute_result"
    }
   ],
   "source": [
    "df.set_index('Date', inplace=True)\n",
    "df.head()"
   ]
  },
  {
   "cell_type": "code",
   "execution_count": 16,
   "id": "6ed89d7b",
   "metadata": {
    "ExecuteTime": {
     "end_time": "2023-09-08T07:57:06.337450200Z",
     "start_time": "2023-09-08T07:57:06.259333700Z"
    }
   },
   "outputs": [
    {
     "data": {
      "text/plain": "year                int64\nmonth               int64\nday                 int64\nhour                int64\nPM2.5             float64\nPM10              float64\nSO2               float64\nNO2               float64\nCO                float64\nO3                float64\nTEMP              float64\nPRES              float64\nDEWP              float64\nRAIN              float64\nwd                 object\nWSPM              float64\nstation            object\ndateInt            object\ndate       datetime64[ns]\ndtype: object"
     },
     "execution_count": 16,
     "metadata": {},
     "output_type": "execute_result"
    }
   ],
   "source": [
    "df.dtypes"
   ]
  },
  {
   "cell_type": "code",
   "execution_count": 17,
   "id": "d93ca5e8",
   "metadata": {
    "ExecuteTime": {
     "end_time": "2023-09-08T07:57:06.808629700Z",
     "start_time": "2023-09-08T07:57:06.290576300Z"
    }
   },
   "outputs": [],
   "source": [
    "# veri setinin yeni halinin kaydedilmesi\n",
    "df.to_csv('cleaned_data.csv', index=False)"
   ]
  },
  {
   "cell_type": "code",
   "execution_count": 18,
   "id": "a09ccdf2",
   "metadata": {
    "ExecuteTime": {
     "end_time": "2023-09-08T07:57:09.263452100Z",
     "start_time": "2023-09-08T07:57:06.683744400Z"
    }
   },
   "outputs": [
    {
     "ename": "TypeError",
     "evalue": "boxplot() takes from 0 to 1 positional arguments but 2 were given",
     "output_type": "error",
     "traceback": [
      "\u001B[1;31m---------------------------------------------------------------------------\u001B[0m",
      "\u001B[1;31mTypeError\u001B[0m                                 Traceback (most recent call last)",
      "Cell \u001B[1;32mIn[18], line 7\u001B[0m\n\u001B[0;32m      5\u001B[0m plt\u001B[38;5;241m.\u001B[39mxticks(rotation\u001B[38;5;241m=\u001B[39m\u001B[38;5;124m'\u001B[39m\u001B[38;5;124mvertical\u001B[39m\u001B[38;5;124m'\u001B[39m)\n\u001B[0;32m      6\u001B[0m plt\u001B[38;5;241m.\u001B[39mtight_layout(pad\u001B[38;5;241m=\u001B[39m\u001B[38;5;241m3.0\u001B[39m)\n\u001B[1;32m----> 7\u001B[0m \u001B[43msns\u001B[49m\u001B[38;5;241;43m.\u001B[39;49m\u001B[43mboxplot\u001B[49m\u001B[43m(\u001B[49m\u001B[43mdf\u001B[49m\u001B[43m[\u001B[49m\u001B[43mcol\u001B[49m\u001B[43m]\u001B[49m\u001B[43m,\u001B[49m\u001B[43mdf\u001B[49m\u001B[43m[\u001B[49m\u001B[38;5;124;43m'\u001B[39;49m\u001B[38;5;124;43mPM2.5\u001B[39;49m\u001B[38;5;124;43m'\u001B[39;49m\u001B[43m]\u001B[49m\u001B[43m)\u001B[49m\n\u001B[0;32m      8\u001B[0m plt\u001B[38;5;241m.\u001B[39msubplot(\u001B[38;5;241m4\u001B[39m,\u001B[38;5;241m2\u001B[39m,number\u001B[38;5;241m*\u001B[39m\u001B[38;5;241m2\u001B[39m\u001B[38;5;241m+\u001B[39m\u001B[38;5;241m2\u001B[39m)\n\u001B[0;32m      9\u001B[0m plt\u001B[38;5;241m.\u001B[39mtitle(\u001B[38;5;124m'\u001B[39m\u001B[38;5;124mParticulate matter 2.5 levels - outliers with log\u001B[39m\u001B[38;5;124m'\u001B[39m)\n",
      "\u001B[1;31mTypeError\u001B[0m: boxplot() takes from 0 to 1 positional arguments but 2 were given"
     ]
    },
    {
     "data": {
      "text/plain": "<Figure size 2000x2000 with 1 Axes>",
      "image/png": "[encoded data removed]"
     },
     "metadata": {},
     "output_type": "display_data"
    }
   ],
   "source": [
    "plt.figure(figsize=(20,20))\n",
    "for number,col in enumerate(['month','day','hour']):\n",
    "    plt.subplot(4,2,number*2+1)\n",
    "    plt.title('Particualte Matter 2.5 levels - outliers')\n",
    "    plt.xticks(rotation='vertical')\n",
    "    plt.tight_layout(pad=3.0)\n",
    "    sns.boxplot(df[col],df['PM2.5'])\n",
    "    plt.subplot(4,2,number*2+2)\n",
    "    plt.title('Particulate matter 2.5 levels - outliers with log')\n",
    "    plt.xticks(rotation='vertical')\n",
    "    plt.tight_layout(pad=3.0)\n",
    "    sns.boxplot(df[col],np.log(df['PM2.5']))"
   ]
  },
  {
   "cell_type": "code",
   "execution_count": null,
   "id": "1e3f4f53",
   "metadata": {
    "ExecuteTime": {
     "start_time": "2023-09-08T07:57:09.263452100Z"
    }
   },
   "outputs": [],
   "source": [
    "# günlük ve haftalık grafikler\n",
    "df_daily = df.resample('D').mean()\n",
    "df_weekly = df_daily.resample('W').mean()"
   ]
  },
  {
   "cell_type": "code",
   "execution_count": null,
   "id": "f37c4d5d",
   "metadata": {
    "ExecuteTime": {
     "end_time": "2023-09-08T07:57:09.263452100Z",
     "start_time": "2023-09-08T07:57:09.263452100Z"
    }
   },
   "outputs": [],
   "source": [
    "plt.figure(figsize=(15,8))\n",
    "sns.lineplot(y=\"PM2.5\" ,x='Date',data=df_daily)"
   ]
  },
  {
   "cell_type": "code",
   "execution_count": null,
   "id": "cc7f8dd0",
   "metadata": {
    "ExecuteTime": {
     "end_time": "2023-09-08T07:57:09.279077100Z",
     "start_time": "2023-09-08T07:57:09.263452100Z"
    }
   },
   "outputs": [],
   "source": [
    "plt.figure(figsize=(15,8))\n",
    "sns.lineplot(y=\"PM2.5\" ,x='Date',data=df_weekly)"
   ]
  },
  {
   "cell_type": "code",
   "execution_count": null,
   "id": "d38b840e",
   "metadata": {
    "ExecuteTime": {
     "start_time": "2023-09-08T07:57:09.279077100Z"
    }
   },
   "outputs": [],
   "source": [
    "def plot_data(col):\n",
    "    plt.figure(figsize=(15,8))\n",
    "    sns.lineplot(y=col ,x='Date',data=df_weekly)\n",
    "\n",
    "\n",
    "for col in df_weekly.columns:\n",
    "    plot_data(col)"
   ]
  },
  {
   "cell_type": "code",
   "execution_count": null,
   "id": "83a9abc8",
   "metadata": {
    "ExecuteTime": {
     "start_time": "2023-09-08T07:57:09.279077100Z"
    }
   },
   "outputs": [],
   "source": [
    "pollutant_corr = df_daily.corr()  # Pearson correlation\n",
    "f, ax = plt.subplots(figsize=(15, 10))\n",
    "cmap = sns.diverging_palette(240, 10, n=9, as_cmap=True)\n",
    "sns.heatmap(pollutant_corr, cmap=cmap, annot=True, vmax=1, center=0,\n",
    "            square=True, linewidth=.5);"
   ]
  },
  {
   "cell_type": "markdown",
   "id": "7c74139d",
   "metadata": {},
   "source": [
    "## Derin Öğrenme Aşaması"
   ]
  },
  {
   "cell_type": "code",
   "execution_count": null,
   "id": "8673bc19",
   "metadata": {
    "ExecuteTime": {
     "start_time": "2023-09-08T07:57:09.279077100Z"
    }
   },
   "outputs": [],
   "source": [
    "# PARAMETERS\n",
    "layer_size = 2\n",
    "units =  30\n",
    "SEED = 123\n",
    "learning_rate = 0.01\n",
    "layer = 'LSTM'\n",
    "activation_function = 'relu'\n",
    "dropout_rate = 0.1\n",
    "epoch = 10\n",
    "batch_size = 128\n",
    "loss_function = 'mae'\n",
    "optimizer = tf.keras.optimizers.Adam(learning_rate=learning_rate)\n",
    "return_sequence = True\n",
    "target = 'PM2.5'\n",
    "n_hours = 24\n",
    "train_size = 0.8\n",
    "\n",
    "# Aynı sonuçlar üretebilmek için\n",
    "os.environ['PYTHONHASHSEED']=str(SEED)\n",
    "np.random.seed(SEED)\n",
    "random.seed(SEED)\n",
    "tf.random.set_seed(SEED)\n",
    "print(\"SEED Ayarlandı: \", SEED)\n",
    "\n",
    "\n",
    "cols_to_analyze = [\n",
    "    \"PM2.5\",\n",
    "    \"SO2\",\n",
    "    \"NO2\",\n",
    "    \"CO\",\n",
    "    \"O3\"\n",
    "]"
   ]
  },
  {
   "cell_type": "code",
   "execution_count": null,
   "id": "ca787674",
   "metadata": {
    "ExecuteTime": {
     "start_time": "2023-09-08T07:57:09.279077100Z"
    }
   },
   "outputs": [],
   "source": [
    "# Scale data\n",
    "scaler = MinMaxScaler(feature_range=(0, 1))\n",
    "scaled_df = pd.DataFrame(scaler.fit_transform(df[cols_to_analyze]),\n",
    "                         index=df.index,\n",
    "                         columns=cols_to_analyze)"
   ]
  },
  {
   "cell_type": "code",
   "execution_count": null,
   "id": "60d947c5",
   "metadata": {
    "ExecuteTime": {
     "start_time": "2023-09-08T07:57:09.279077100Z"
    }
   },
   "outputs": [],
   "source": [
    "scaled_df.head(50)"
   ]
  },
  {
   "cell_type": "code",
   "execution_count": null,
   "id": "d22ac2f9",
   "metadata": {
    "ExecuteTime": {
     "start_time": "2023-09-08T07:57:09.279077100Z"
    }
   },
   "outputs": [],
   "source": [
    "# reframe data\n",
    "# convert series to supervised learning\n",
    "def series_to_supervised(data, n_in=1, n_out=1, dropnan=True):\n",
    "    n_vars = 1 if type(data) is list else data.shape[1]\n",
    "    df = pd.DataFrame(data)\n",
    "    cols, names = list(), list()\n",
    "    # input sequence (t-n, ... t-1)\n",
    "    for i in range(n_in, 0, -1):\n",
    "        cols.append(df.shift(i))\n",
    "        names += [('var%d(t-%d)' % (j + 1, i)) for j in range(n_vars)]\n",
    "    # forecast sequence (t, t+1, ... t+n)\n",
    "    for i in range(0, n_out):\n",
    "        cols.append(df.shift(-i))\n",
    "        if i == 0:\n",
    "            names += [('var%d(t)' % (j + 1)) for j in range(n_vars)]\n",
    "        else:\n",
    "            names += [('var%d(t+%d)' % (j + 1, i)) for j in range(n_vars)]\n",
    "    # put it all together\n",
    "    agg = pd.concat(cols, axis=1)\n",
    "    agg.columns = names\n",
    "    # drop rows with NaN values\n",
    "    if dropnan:\n",
    "        agg.dropna(inplace=True)\n",
    "    return agg"
   ]
  },
  {
   "cell_type": "code",
   "execution_count": null,
   "id": "ee4382b4",
   "metadata": {
    "ExecuteTime": {
     "end_time": "2023-09-08T07:57:09.305351700Z",
     "start_time": "2023-09-08T07:57:09.279077100Z"
    }
   },
   "outputs": [],
   "source": [
    "reframed_df = pd.DataFrame(\n",
    "    series_to_supervised(scaled_df.to_numpy(), n_hours, len([target])))\n",
    "# Düşürülecek sütunlar sondan özellik sayısından 1 eksik olana kadar gideceğiz.\n",
    "reframed_df = reframed_df.iloc[:, :-(len(cols_to_analyze) - 1)]\n",
    "reframed_df.index = df.index[n_hours:]"
   ]
  },
  {
   "cell_type": "code",
   "execution_count": null,
   "id": "d965cde2",
   "metadata": {
    "ExecuteTime": {
     "start_time": "2023-09-08T07:57:09.298785500Z"
    }
   },
   "outputs": [],
   "source": [
    "reframed_df"
   ]
  },
  {
   "cell_type": "code",
   "execution_count": null,
   "id": "5c9c9667",
   "metadata": {
    "ExecuteTime": {
     "start_time": "2023-09-08T07:57:09.300951900Z"
    }
   },
   "outputs": [],
   "source": [
    "# split_data\n",
    "X = reframed_df.iloc[:, :-1]\n",
    "y = reframed_df.iloc[:, -1]\n",
    "print(X.shape, \"x\", y.shape, \"y\")"
   ]
  },
  {
   "cell_type": "code",
   "execution_count": null,
   "id": "df8e3edd",
   "metadata": {
    "ExecuteTime": {
     "start_time": "2023-09-08T07:57:09.304223800Z"
    }
   },
   "outputs": [],
   "source": [
    "X_train_df, X_test_df, y_train_df, y_test_df = train_test_split(\n",
    "    X, y, train_size=train_size, shuffle=False)\n",
    "X_train = X_train_df.to_numpy().reshape(\n",
    "    (X_train_df.shape[0], n_hours, scaled_df.shape[1]))\n",
    "X_test = X_test_df.to_numpy().reshape(\n",
    "    (X_test_df.shape[0], n_hours, scaled_df.shape[1]))"
   ]
  },
  {
   "cell_type": "code",
   "execution_count": null,
   "id": "9afa2c97",
   "metadata": {
    "ExecuteTime": {
     "end_time": "2023-09-08T07:57:09.394290200Z",
     "start_time": "2023-09-08T07:57:09.306486100Z"
    }
   },
   "outputs": [],
   "source": [
    "X_train.shape, y_train_df.shape, X_test.shape, y_test_df.shape"
   ]
  },
  {
   "cell_type": "code",
   "execution_count": null,
   "id": "4aa1c2dc",
   "metadata": {
    "ExecuteTime": {
     "start_time": "2023-09-08T07:57:09.308654300Z"
    }
   },
   "outputs": [],
   "source": [
    "print(X_train.shape, \"X_train.shape\")\n",
    "print(X_test.shape, \"X_test.shape\")\n",
    "print(y_train_df.shape, \"y_train_df.shape\")\n",
    "print(y_test_df.shape, \"y_test_df.shape\")"
   ]
  },
  {
   "cell_type": "code",
   "execution_count": null,
   "id": "46b0651d",
   "metadata": {
    "ExecuteTime": {
     "start_time": "2023-09-08T07:57:09.310779900Z"
    }
   },
   "outputs": [],
   "source": [
    "model = Sequential()\n",
    "model.add(\n",
    "    SimpleRNN(units,\n",
    "              activation=activation_function,\n",
    "              input_shape=(X_train.shape[1], X_train.shape[2]),\n",
    "              return_sequences=True))\n",
    "model.add(Dropout(dropout_rate))\n",
    "model.add(SimpleRNN(units, activation=activation_function))\n",
    "model.add(Dropout(dropout_rate))\n",
    "model.add(Dense(1))\n",
    "model.compile(loss=loss_function, optimizer=optimizer)\n",
    "history = model.fit(X_train,\n",
    "                    y_train_df.to_numpy(),\n",
    "                    epochs=epoch,\n",
    "                    batch_size=batch_size,\n",
    "                    validation_data=(X_test, y_test_df.to_numpy()),\n",
    "                    verbose=1,\n",
    "                    shuffle=False)"
   ]
  },
  {
   "cell_type": "code",
   "execution_count": null,
   "id": "4d31903b",
   "metadata": {
    "ExecuteTime": {
     "start_time": "2023-09-08T07:57:09.316165100Z"
    }
   },
   "outputs": [],
   "source": [
    "loss = history.history[\"loss\"]\n",
    "val_loss = history.history[\"val_loss\"]\n",
    "epochs = range(len(loss))\n",
    "plt.figure()\n",
    "plt.plot(epochs, loss, \"b\", label=\"Train\")\n",
    "plt.plot(epochs, val_loss, \"r\", label=\"Test\")\n",
    "plt.title(\"history\")\n",
    "plt.xlabel(\"Epochs\")\n",
    "plt.ylabel(\"Loss\")\n",
    "plt.legend()\n",
    "plt.show()"
   ]
  },
  {
   "cell_type": "code",
   "execution_count": null,
   "id": "98494775",
   "metadata": {
    "ExecuteTime": {
     "start_time": "2023-09-08T07:57:09.316165100Z"
    }
   },
   "outputs": [],
   "source": [
    "scaler_pred = MinMaxScaler()\n",
    "scaler_pred.fit(df[target].to_numpy().reshape(-1, 1))\n",
    "y_pred_test = model.predict(\n",
    "    X_test)  # yhat tahmin değerleri y_test ler ile kıyaslanacak.\n",
    "# inverse scaling for forecast\n",
    "inv_y_pred_test = scaler_pred.inverse_transform(y_pred_test)\n",
    "y_true_test = scaler_pred.inverse_transform(y_test_df.to_numpy().reshape(\n",
    "    -1, 1))\n",
    "# make predictions (train)\n",
    "y_pred_train = model.predict(\n",
    "    X_train)  # yhat tahmin değerleri y_test ler ile kıyaslanacak.\n",
    "# inverse scaling for forecast\n",
    "inv_y_pred_train = scaler_pred.inverse_transform(y_pred_train)\n",
    "y_true_train = scaler_pred.inverse_transform(y_train_df.to_numpy().reshape(\n",
    "    -1, 1))"
   ]
  },
  {
   "cell_type": "code",
   "execution_count": null,
   "id": "da509775",
   "metadata": {
    "ExecuteTime": {
     "start_time": "2023-09-08T07:57:09.316165100Z"
    }
   },
   "outputs": [],
   "source": [
    "# TEST\n",
    "test_rmse = mean_squared_error(inv_y_pred_test, y_true_test, squared=False)\n",
    "test_mae = mean_absolute_error(inv_y_pred_test, y_true_test)"
   ]
  },
  {
   "cell_type": "code",
   "execution_count": null,
   "id": "ebd1347d",
   "metadata": {
    "ExecuteTime": {
     "start_time": "2023-09-08T07:57:09.316165100Z"
    }
   },
   "outputs": [],
   "source": [
    "test_rmse"
   ]
  },
  {
   "cell_type": "code",
   "execution_count": null,
   "id": "c4e5a8e7",
   "metadata": {
    "ExecuteTime": {
     "start_time": "2023-09-08T07:57:09.316165100Z"
    }
   },
   "outputs": [],
   "source": [
    "test_mae"
   ]
  },
  {
   "cell_type": "code",
   "execution_count": null,
   "id": "c9920f31",
   "metadata": {
    "ExecuteTime": {
     "start_time": "2023-09-08T07:57:09.316165100Z"
    }
   },
   "outputs": [],
   "source": [
    "plt.plot(y_true_test[:200], label=\"actual\")\n",
    "plt.plot(inv_y_pred_test[:200], label=\"prediction\")\n",
    "plt.legend()"
   ]
  },
  {
   "cell_type": "code",
   "execution_count": null,
   "id": "2e366046",
   "metadata": {
    "ExecuteTime": {
     "start_time": "2023-09-08T07:57:09.316165100Z"
    }
   },
   "outputs": [],
   "source": [
    "# train_test train için mi test için mi\n",
    "plt.figure(figsize=(10, 10))\n",
    "plt.scatter(y_true_test, inv_y_pred_test, c='crimson')\n",
    "plt.yscale('log')\n",
    "plt.xscale('log')\n",
    "p1 = max(max(inv_y_pred_test), max(y_true_test))\n",
    "p2 = min(min(inv_y_pred_test), min(y_true_test))\n",
    "plt.plot([p1, p2], [p1, p2], 'b-')\n",
    "plt.xlabel('True Values', fontsize=15)\n",
    "plt.ylabel('Predictions', fontsize=15)\n",
    "plt.axis('equal')\n",
    "#plt.savefig(\"images/true_preds{}_{}.jpg\".format(model_number, train_test))\n",
    "plt.show()"
   ]
  },
  {
   "cell_type": "code",
   "execution_count": null,
   "outputs": [],
   "source": [],
   "metadata": {
    "collapsed": false,
    "ExecuteTime": {
     "start_time": "2023-09-08T07:57:09.316165100Z"
    }
   },
   "id": "a28b7590adf2a06c"
  },
  {
   "cell_type": "code",
   "execution_count": null,
   "id": "60377409",
   "metadata": {
    "ExecuteTime": {
     "start_time": "2023-09-08T07:57:09.316165100Z"
    }
   },
   "outputs": [],
   "source": []
  }
 ],
 "metadata": {
  "accelerator": "TPU",
  "celltoolbar": "Tags",
  "colab": {
   "collapsed_sections": [],
   "name": "kagithane_atm_met.ipynb",
   "provenance": []
  },
  "interpreter": {
   "hash": "a4ae173dc0bc553dffd3337b933bf6f05eed740245579b100d876076ba6fb9f0"
  },
  "kernelspec": {
   "display_name": "Python 3 (ipykernel)",
   "language": "python",
   "name": "python3"
  },
  "language_info": {
   "codemirror_mode": {
    "name": "ipython",
    "version": 3
   },
   "file_extension": ".py",
   "mimetype": "text/x-python",
   "name": "python",
   "nbconvert_exporter": "python",
   "pygments_lexer": "ipython3",
   "version": "3.9.7"
  },
  "papermill": {
   "default_parameters": {},
   "duration": 505.912157,
   "end_time": "2022-01-28T23:01:31.746331",
   "environment_variables": {},
   "exception": true,
   "input_path": "input.ipynb",
   "output_path": "output_1.ipynb",
   "parameters": {
    "learning_rate": 0.1,
    "model_number": 1
   },
   "start_time": "2022-01-28T22:53:05.834174",
   "version": "2.3.4"
  },
  "toc": {
   "base_numbering": 1,
   "nav_menu": {},
   "number_sections": true,
   "sideBar": true,
   "skip_h1_title": false,
   "title_cell": "Table of Contents",
   "title_sidebar": "Contents",
   "toc_cell": false,
   "toc_position": {},
   "toc_section_display": true,
   "toc_window_display": false
  },
  "varInspector": {
   "cols": {
    "lenName": 16,
    "lenType": 16,
    "lenVar": 40
   },
   "kernels_config": {
    "python": {
     "delete_cmd_postfix": "",
     "delete_cmd_prefix": "del ",
     "library": "var_list.py",
     "varRefreshCmd": "print(var_dic_list())"
    },
    "r": {
     "delete_cmd_postfix": ") ",
     "delete_cmd_prefix": "rm(",
     "library": "var_list.r",
     "varRefreshCmd": "cat(var_dic_list()) "
    }
   },
   "oldHeight": 567.841,
   "position": {
    "height": "48.0667px",
    "left": "1010.09px",
    "right": "20px",
    "top": "101px",
    "width": "383.067px"
   },
   "types_to_exclude": [
    "module",
    "function",
    "builtin_function_or_method",
    "instance",
    "_Feature"
   ],
   "varInspector_section_display": "none",
   "window_display": false
  }
 },
 "nbformat": 4,
 "nbformat_minor": 5
}
