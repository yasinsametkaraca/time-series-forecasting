{
 "cells": [
  {
   "cell_type": "code",
   "execution_count": null,
   "id": "initial_id",
   "metadata": {
    "collapsed": true
   },
   "outputs": [],
   "source": [
    "# I separated the full data set into four subsets: one for each junction. Thereafter, I split each subset into training and validation sets such that the validation set was all of June 2017 - the last 30 days of vehicle traffic in the data.\n",
    "\n",
    "df_j1 = df[df['Junction'] == 1]\n",
    "df_j2 = df[df['Junction'] == 2]\n",
    "df_j3 = df[df['Junction'] == 3]\n",
    "df_j4 = df[df['Junction'] == 4]\n",
    "\n",
    "def df_splitter(df):\n",
    "    # Split DataFrame by date\n",
    "    df_train = df[df['DateTime'] < '2017-06-01']\n",
    "    df_valid = df[df['DateTime'] >= '2017-06-01']\n",
    "    \n",
    "    return df_train, df_valid\n",
    "\n",
    "# Generating training and validation data for each Junction\n",
    "df_j1_train, df_j1_valid = df_splitter(df_j1)\n",
    "df_j2_train, df_j2_valid = df_splitter(df_j2)\n",
    "df_j3_train, df_j3_valid = df_splitter(df_j3)\n",
    "df_j4_train, df_j4_valid = df_splitter(df_j4)"
   ]
  },
  {
   "cell_type": "code",
   "execution_count": null,
   "outputs": [],
   "source": [
    "j1_color = '#F5AF0C'\n",
    "j2_color = '#AE4FC6'\n",
    "j3_color = '#76CDF2'\n",
    "j4_color = '#76F2B8'\n",
    "\n",
    "fig, axs = plt.subplots(4, 1, figsize=(12, 12))\n",
    "\n",
    "# Her bir alt grafiği oluşturun ve verileri çizin\n",
    "for i, (df_train, color, junction_name) in enumerate([(df_j1_train, j1_color, 'Junction 1'),\n",
    "                                                      (df_j2_train, j2_color, 'Junction 2'),\n",
    "                                                      (df_j3_train, j3_color, 'Junction 3'),\n",
    "                                                      (df_j4_train, j4_color, 'Junction 4')]):\n",
    "    axs[i].plot(df_train['DateTime'], df_train['Vehicles'], color=color)\n",
    "    axs[i].set_xlabel('Date')\n",
    "    axs[i].set_ylabel('Vehicles')\n",
    "    axs[i].set_title(junction_name)\n",
    "    axs[i].grid(True)\n",
    "\n",
    "plt.tight_layout()\n",
    "plt.show()"
   ],
   "metadata": {
    "collapsed": false
   },
   "id": "5608952a790fe0b7"
  },
  {
   "cell_type": "markdown",
   "source": [
    "#### Training Set EDA\n",
    "I plotted the time series for each junction. According to the plots above:\n",
    "\n",
    "Traffic increases over time for junctions 1 and 2\n",
    "The junctions have non-constant variance across time\n",
    "Vehicle traffic is stable in the long run for junctions 3 and 4\n",
    "Junction 4's data begins in 2017, whereas the rest begin in 2015"
   ],
   "metadata": {
    "collapsed": false
   },
   "id": "c7eeb7b016b06530"
  }
 ],
 "metadata": {
  "kernelspec": {
   "display_name": "Python 3",
   "language": "python",
   "name": "python3"
  },
  "language_info": {
   "codemirror_mode": {
    "name": "ipython",
    "version": 2
   },
   "file_extension": ".py",
   "mimetype": "text/x-python",
   "name": "python",
   "nbconvert_exporter": "python",
   "pygments_lexer": "ipython2",
   "version": "2.7.6"
  }
 },
 "nbformat": 4,
 "nbformat_minor": 5
}
