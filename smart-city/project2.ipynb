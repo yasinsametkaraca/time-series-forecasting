{
 "cells": [
  {
   "cell_type": "markdown",
   "source": [
    "## 1.  Understand the Problem Statement & Import Packages and Datasets :"
   ],
   "metadata": {
    "collapsed": false
   },
   "id": "cd03d83ff0ddf869"
  },
  {
   "cell_type": "code",
   "execution_count": null,
   "outputs": [],
   "source": [
    "# Import Required Python Packages :\n",
    "\n",
    "# Scientific and Data Manipulation Libraries :\n",
    "\n",
    "import numpy as np\n",
    "import pandas as pd\n",
    "\n",
    "# Data Viz & Regular Expression Libraries :\n",
    "\n",
    "import matplotlib.pyplot as plt\n",
    "get_ipython().run_line_magic('matplotlib', 'inline')\n",
    "\n",
    "# Scikit-Learn ML Libraries :\n",
    "\n",
    "from sklearn.preprocessing import *\n",
    "from sklearn.model_selection import *\n",
    "from sklearn.metrics import *\n",
    "\n",
    "# Garbage Collection Libraries :\n",
    "\n",
    "import gc\n",
    "\n",
    "# Boosting Algorithm Libraries :\n",
    "\n",
    "from sklearn.tree                     import DecisionTreeClassifier\n",
    "from xgboost                          import XGBRegressor\n",
    "from catboost                         import CatBoostRegressor\n",
    "from lightgbm                         import LGBMRegressor\n",
    "from sklearn.ensemble                 import ExtraTreesClassifier, VotingClassifier\n",
    "\n",
    "# Date & Time Libraries :\n",
    "from datetime import datetime\n",
    "import time\n",
    "\n",
    "# Setting SEED in Numpy to get Reproducible Results :\n",
    "np.random.seed(0)"
   ],
   "metadata": {
    "collapsed": false
   },
   "id": "fe894e398c28f15a"
  }
 ],
 "metadata": {
  "kernelspec": {
   "display_name": "Python 3",
   "language": "python",
   "name": "python3"
  },
  "language_info": {
   "codemirror_mode": {
    "name": "ipython",
    "version": 2
   },
   "file_extension": ".py",
   "mimetype": "text/x-python",
   "name": "python",
   "nbconvert_exporter": "python",
   "pygments_lexer": "ipython2",
   "version": "2.7.6"
  }
 },
 "nbformat": 4,
 "nbformat_minor": 5
}
